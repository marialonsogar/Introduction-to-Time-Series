{
 "cells": [
  {
   "cell_type": "markdown",
   "metadata": {},
   "source": [
    "# Overview\n",
    "---------------------\n"
   ]
  },
  {
   "cell_type": "markdown",
   "metadata": {},
   "source": [
    "# Time series tasks"
   ]
  },
  {
   "cell_type": "markdown",
   "metadata": {},
   "source": [
    "# Toolkits for time series\n",
    "\n",
    "- sktime (classification/regression/clustering/forecasting/annotation)\n",
    "- tslearn (classification/clustering)\n",
    "- tsfresh (feature extraction)\n",
    "- statsmodels (statistical forecasting, time series analysis)\n",
    "- gluon-ts (forecasting, anomaly detection)"
   ]
  }
 ],
 "metadata": {
  "kernelspec": {
   "display_name": "Python 3.9.1 ('env': venv)",
   "language": "python",
   "name": "python3"
  },
  "language_info": {
   "codemirror_mode": {
    "name": "ipython",
    "version": 3
   },
   "file_extension": ".py",
   "mimetype": "text/x-python",
   "name": "python",
   "nbconvert_exporter": "python",
   "pygments_lexer": "ipython3",
   "version": "3.9.1"
  },
  "orig_nbformat": 4,
  "vscode": {
   "interpreter": {
    "hash": "ee2630feed651532294d0653cb86cab0399150c9791a508b6e2be231c3395772"
   }
  }
 },
 "nbformat": 4,
 "nbformat_minor": 2
}
